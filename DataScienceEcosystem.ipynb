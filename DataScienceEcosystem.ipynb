{
 "cells": [
  {
   "cell_type": "markdown",
   "metadata": {
    "jp-MarkdownHeadingCollapsed": true,
    "tags": []
   },
   "source": [
    "#### Add your code below following the instructions given in the course\n"
   ]
  },
  {
   "cell_type": "markdown",
   "metadata": {
    "tags": []
   },
   "source": [
    "# Data Science Tools and Ecosystem"
   ]
  },
  {
   "cell_type": "markdown",
   "metadata": {},
   "source": [
    "This notebook will summarize the Data Science Tools and Ecosystem taught in the Tools for Data Science course."
   ]
  },
  {
   "cell_type": "markdown",
   "metadata": {},
   "source": [
    "**Objectives:**\n",
    "- Programming languages used by Data Scientists\n",
    "- Libraries commonly used by Data Scientitests\n",
    "- Open-Source Data Science tools\n",
    "- Examples on using code cells to evaluate arithmetic"
   ]
  },
  {
   "cell_type": "markdown",
   "metadata": {},
   "source": [
    "## Author\n",
    "Sandy Chow"
   ]
  },
  {
   "cell_type": "markdown",
   "metadata": {
    "tags": []
   },
   "source": [
    "There are a variety of programming languages used by Data Scientists to perform data science related tasks.  Some of the popular ones are as follows:\n",
    "**Most popular**\n",
    "1. **Python** is the most popular in data science industry.  It is good for people who already know how to program or people who want to learn how to program.\n",
    "2. **R** is a free software.  It is good for staticians, mathematicians, and data miners for developing statistical software, graphing, and data analysis.  It is popular in academia.\n",
    "3. **SQL** is a non-procedural language.  Its scope is limited to querying and managing data.\n",
    "**Other languages**\n",
    "4. **Scala** \n",
    "5. **Java**\n",
    "6. **C++**\n",
    "7. **Julia**\n",
    "8. **Javascript**\n",
    "9. **PHP**\n",
    "10. **GP Ruby**\n",
    "11. **Visual Ruby**"
   ]
  },
  {
   "cell_type": "markdown",
   "metadata": {},
   "source": [
    "Libraries commonly used by Data Scientists include the following:\n",
    "1. Python Libraries\n",
    "    1. **Pandas**: Scientific library effective for data cleaning, manipulation, and analysis.\n",
    "    2. **NumPy**: Scientific library. It is based on arrays and matrices, allowing you to apply mathematical functions to the arrays.\n",
    "    3. **Matplotlib**: Used for data visualization.\n",
    "    4. **Seaborn**: Based on matplotlib.  Generates heat maps, time series, and violin plots.\n",
    "    5. **Scikit-learn**: Used for Machine learning. Tools for statistical modeling , including regression, classification, clustering, and so on.\n",
    "    6. **Keras**: Used for deep learning. Allows you to build standard deep learning models.\n",
    "    7. **TensorFlow**: Used for large-scale production of deep learning models.\n",
    "    8. **Pytorch**: Used for deep learning experimentation. Good for testing ideas.\n",
    "2. R Libraries\n",
    "    1. **ggplot2**: Used for data visualization.\n",
    "    2. There are also libraries to interface with Keras and Tensorflow."
   ]
  },
  {
   "cell_type": "markdown",
   "metadata": {},
   "source": [
    "|Data Science Tools|\n",
    "|------------------|\n",
    "|Jupyter Notebooks|\n",
    "|RStudio|\n",
    "|VSCode|"
   ]
  },
  {
   "cell_type": "markdown",
   "metadata": {},
   "source": [
    "### Here are some examples of evaluating arithmetic expressions in Python."
   ]
  },
  {
   "cell_type": "code",
   "execution_count": 6,
   "metadata": {
    "tags": []
   },
   "outputs": [
    {
     "data": {
      "text/plain": [
       "17"
      ]
     },
     "execution_count": 6,
     "metadata": {},
     "output_type": "execute_result"
    }
   ],
   "source": [
    "# This cell evaluates (3*4)+5\n",
    "(3*4)+5"
   ]
  },
  {
   "cell_type": "code",
   "execution_count": 7,
   "metadata": {
    "tags": []
   },
   "outputs": [
    {
     "name": "stdout",
     "output_type": "stream",
     "text": [
      "200 minutes is 3.3333333333333335 hours\n"
     ]
    }
   ],
   "source": [
    "# This cell converts 200 minutes into hours by dividing by 60.\n",
    "minutes = 200\n",
    "hours = 200/60\n",
    "print(f\"200 minutes is {hours} hours\")\n"
   ]
  },
  {
   "cell_type": "code",
   "execution_count": null,
   "metadata": {},
   "outputs": [],
   "source": []
  }
 ],
 "metadata": {
  "kernelspec": {
   "display_name": "Python",
   "language": "python",
   "name": "conda-env-python-py"
  },
  "language_info": {
   "codemirror_mode": {
    "name": "ipython",
    "version": 3
   },
   "file_extension": ".py",
   "mimetype": "text/x-python",
   "name": "python",
   "nbconvert_exporter": "python",
   "pygments_lexer": "ipython3",
   "version": "3.7.12"
  }
 },
 "nbformat": 4,
 "nbformat_minor": 4
}
